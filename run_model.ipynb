{
 "cells": [
  {
   "cell_type": "code",
   "execution_count": 7,
   "metadata": {},
   "outputs": [
    {
     "name": "stdout",
     "output_type": "stream",
     "text": [
      " Originally intended for the first Gym challenge, before being superseded by Brock, he later returned for his own Gym ordeal, in the games and in the anime. He hands out the Trio Badge to Trainers who defeat him. His Japanese name has been romanized as Yabe, Yadhi, Yady and Yache, his English name as Angelo and his Spanish name as Toubeo. -----', '-------', '-------', '-------', '-------', '-------', 'hhhh\n"
     ]
    }
   ],
   "source": [
    "import openai\n",
    "\n",
    "# APIキーを設定\n",
    "openai.api_key = \"\"\n",
    "\n",
    "# ファインチューニング済みモデルのIDを設定\n",
    "model_id = \"davinci:ft-webscience-lab-2023-08-20-09-29-59\"\n",
    "\n",
    "# ファインチューニング済みモデルを使用してテキスト生成\n",
    "response = openai.Completion.create(\n",
    "    model=model_id,\n",
    "    prompt=\"Evolution Gym environment.\",\n",
    "    max_tokens=100\n",
    ")\n",
    "\n",
    "print(response['choices'][0]['text'])"
   ]
  },
  {
   "cell_type": "code",
   "execution_count": 4,
   "metadata": {},
   "outputs": [
    {
     "name": "stdout",
     "output_type": "stream",
     "text": [
      "Fine-tuned model ID: davinci:ft-webscience-lab-2023-08-20-09-29-59\n",
      "Fine-tuned model ID: davinci:ft-webscience-lab-2023-08-21-08-01-59\n"
     ]
    }
   ],
   "source": [
    "import openai\n",
    "# APIキーを設定\n",
    "openai.api_key = \"\"\n",
    "# モデルの一覧を取得\n",
    "models = openai.Model.list()\n",
    "\n",
    "# ファインチューニング済みモデル確認\n",
    "for model in models[\"data\"]:\n",
    "    if \"ft-\" in model[\"id\"]:\n",
    "        print(\"Fine-tuned model ID:\", model[\"id\"])\n"
   ]
  }
 ],
 "metadata": {
  "kernelspec": {
   "display_name": ".venv",
   "language": "python",
   "name": "python3"
  },
  "language_info": {
   "codemirror_mode": {
    "name": "ipython",
    "version": 3
   },
   "file_extension": ".py",
   "mimetype": "text/x-python",
   "name": "python",
   "nbconvert_exporter": "python",
   "pygments_lexer": "ipython3",
   "version": "3.8.5"
  },
  "orig_nbformat": 4
 },
 "nbformat": 4,
 "nbformat_minor": 2
}

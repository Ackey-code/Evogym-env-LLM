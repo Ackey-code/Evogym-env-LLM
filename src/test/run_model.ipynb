{
 "cells": [
  {
   "cell_type": "code",
   "execution_count": null,
   "metadata": {},
   "outputs": [],
   "source": [
    "import openai\n",
    "\n",
    "# APIキーを設定\n",
    "openai.api_key = \"\"\n",
    "\n",
    "# ファインチューニング済みモデルのIDを設定\n",
    "model_id = \"davinci:ft-\"\n",
    "\n",
    "# ファインチューニング済みモデルを使用してテキスト生成\n",
    "response = openai.Completion.create(\n",
    "    model=model_id,\n",
    "    prompt=\"Evolution Gym environment.\",\n",
    "    max_tokens=100\n",
    ")\n",
    "\n",
    "print(response['choices'][0]['text'])"
   ]
  },
  {
   "cell_type": "code",
   "execution_count": null,
   "metadata": {},
   "outputs": [],
   "source": [
    "import openai\n",
    "# APIキーを設定\n",
    "openai.api_key = \"\"\n",
    "# モデルの一覧を取得\n",
    "models = openai.Model.list()\n",
    "\n",
    "# ファインチューニング済みモデル確認\n",
    "for model in models[\"data\"]:\n",
    "    if \"ft-\" in model[\"id\"]:\n",
    "        print(\"Fine-tuned model ID:\", model[\"id\"])\n"
   ]
  }
 ],
 "metadata": {
  "kernelspec": {
   "display_name": ".venv",
   "language": "python",
   "name": "python3"
  },
  "language_info": {
   "codemirror_mode": {
    "name": "ipython",
    "version": 3
   },
   "file_extension": ".py",
   "mimetype": "text/x-python",
   "name": "python",
   "nbconvert_exporter": "python",
   "pygments_lexer": "ipython3",
   "version": "3.8.5"
  },
  "orig_nbformat": 4
 },
 "nbformat": 4,
 "nbformat_minor": 2
}

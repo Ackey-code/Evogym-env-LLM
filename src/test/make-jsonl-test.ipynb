{
 "cells": [
  {
   "cell_type": "code",
   "execution_count": 9,
   "metadata": {},
   "outputs": [],
   "source": [
    "import os\n",
    "import copy\n",
    "from itertools import count\n",
    "import json\n",
    "import pickle\n",
    "import numpy as np\n",
    "import jsonlines\n",
    "import matplotlib.pyplot as plt"
   ]
  },
  {
   "cell_type": "code",
   "execution_count": 10,
   "metadata": {},
   "outputs": [],
   "source": [
    "# open json file\n",
    "path = './evogym-design-tool/exported/'\n",
    "env_file = os.path.join(path, 'a1.json')\n",
    "\n",
    "with open(env_file) as f:\n",
    "    env_json = json.load(f)"
   ]
  },
  {
   "cell_type": "code",
   "execution_count": 11,
   "metadata": {},
   "outputs": [
    {
     "name": "stdout",
     "output_type": "stream",
     "text": [
      "10 10\n",
      "[['-' '-' '-' '-' '-' '-' '-' '-' '-' '-']\n",
      " ['-' '-' '-' '-' '-' '-' '-' '-' '-' '-']\n",
      " ['-' '-' '-' '-' '-' '-' '-' '-' '-' '-']\n",
      " ['-' '-' '-' '-' '-' '-' '-' '-' '-' '-']\n",
      " ['-' '-' '-' '-' '-' '-' '-' '-' '-' '-']\n",
      " ['-' '-' '-' '-' '-' '-' '-' '-' '-' '-']\n",
      " ['-' '-' '-' '-' '-' '-' '-' '-' '-' '-']\n",
      " ['-' '-' '-' '-' '-' '-' '-' '-' '-' '-']\n",
      " ['-' '-' '-' '-' '-' '-' '-' '-' '-' '-']\n",
      " ['-' '-' '-' '-' '-' '-' '-' '-' '-' '-']]\n"
     ]
    }
   ],
   "source": [
    "width, height = env_json['grid_width'], env_json['grid_height']\n",
    "print(width, height)\n",
    "\n",
    "text = np.full((height,width),'-')\n",
    "print(text)"
   ]
  },
  {
   "cell_type": "code",
   "execution_count": 12,
   "metadata": {},
   "outputs": [
    {
     "data": {
      "image/png": "[encoded data removed]",
      "text/plain": [
       "<Figure size 640x480 with 1 Axes>"
      ]
     },
     "metadata": {},
     "output_type": "display_data"
    }
   ],
   "source": [
    "fig, ax = plt.subplots()\n",
    "\n",
    "for platform in env_json['objects'].values():\n",
    "    for idx, t in zip(platform['indices'],platform['types']):\n",
    "        x = idx % width\n",
    "        y = idx // width\n",
    "\n",
    "        if t==2: \n",
    "            color = [0.7,0.7,0.7]\n",
    "            text[y,x] = 'S'\n",
    "        else:\n",
    "            color = 'k'\n",
    "            text[y,x] = 'H'\n",
    "        ax.fill_between([x,x+1], [y+1, y+1], [y, y], fc=color)\n",
    "\n",
    "text1 = np.flipud(text)\n",
    "ax.set_xlim([0,width])\n",
    "ax.set_ylim([0,height])\n",
    "ax.grid()\n",
    "plt.show()"
   ]
  },
  {
   "cell_type": "code",
   "execution_count": 13,
   "metadata": {},
   "outputs": [],
   "source": [
    "# 画像ファイルの保存\n",
    "output_file = 'output.png'\n",
    "\n",
    "# 図の保存\n",
    "fig.savefig(output_file, dpi=300, bbox_inches='tight')"
   ]
  },
  {
   "cell_type": "code",
   "execution_count": 14,
   "metadata": {},
   "outputs": [
    {
     "data": {
      "text/plain": [
       "['----------',\n",
       " '----------',\n",
       " '----------',\n",
       " '----------',\n",
       " '----------',\n",
       " '----------',\n",
       " 'HHHH------',\n",
       " '---HHHHHHH',\n",
       " '----------',\n",
       " '----------']"
      ]
     },
     "execution_count": 14,
     "metadata": {},
     "output_type": "execute_result"
    }
   ],
   "source": [
    "Text = []\n",
    "for i in text1:\n",
    "    t = \"\".join(i)\n",
    "    Text.append(t)\n",
    "Text"
   ]
  },
  {
   "cell_type": "code",
   "execution_count": 15,
   "metadata": {},
   "outputs": [
    {
     "name": "stdout",
     "output_type": "stream",
     "text": [
      "データがJSONLファイルに保存されました。\n"
     ]
    }
   ],
   "source": [
    "# JSONLファイルに保存するためのデータ作成\n",
    "data = {\n",
    "    \"prompt\": \"list of environment data\",\n",
    "    \"completion\": {\n",
    "        \"text\": str(Text)\n",
    "    }\n",
    "}\n",
    "\n",
    "# JSONLファイルにデータを書き込む\n",
    "jsonl_file = 'dataset/gpt-dataset.jsonl'\n",
    "\n",
    "with jsonlines.open(jsonl_file, mode='w') as writer:\n",
    "    writer.write(data)\n",
    "\n",
    "print(f'データがJSONLファイルに保存されました。')"
   ]
  }
 ],
 "metadata": {
  "kernelspec": {
   "display_name": ".venv",
   "language": "python",
   "name": "python3"
  },
  "language_info": {
   "codemirror_mode": {
    "name": "ipython",
    "version": 3
   },
   "file_extension": ".py",
   "mimetype": "text/x-python",
   "name": "python",
   "nbconvert_exporter": "python",
   "pygments_lexer": "ipython3",
   "version": "3.8.5"
  },
  "orig_nbformat": 4
 },
 "nbformat": 4,
 "nbformat_minor": 2
}

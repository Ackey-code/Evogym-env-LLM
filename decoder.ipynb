{
 "cells": [
  {
   "cell_type": "code",
   "execution_count": 1,
   "id": "b9c8716c",
   "metadata": {},
   "outputs": [],
   "source": [
    "import os\n",
    "import copy\n",
    "from itertools import count\n",
    "import json\n",
    "import pickle\n",
    "import numpy as np\n",
    "\n",
    "import matplotlib.pyplot as plt"
   ]
  },
  {
   "cell_type": "code",
   "execution_count": 34,
   "id": "3a1b7bdf",
   "metadata": {},
   "outputs": [
    {
     "data": {
      "text/plain": [
       "array(['HHHHHHHHHHHHHHHHHHHHHHHHHHHHHHHHHHHHHHHHHHHHHHHHHHHHHHHHHHHHHHHHHHHHHH',\n",
       "       '----------------------------------------------SSSSS------------------H',\n",
       "       '---------------------------------------------------------------------H',\n",
       "       '---------------------------------------------------------------------H',\n",
       "       '-------------------------SSSSSS----------------------------H---------H',\n",
       "       '-----------------------SSSSSSSSSS---------SSSSSSSSSS-------HH--------H',\n",
       "       '---------------------SSSSSSSSSSSSSS----SSSSSSSSSSSSSSS----HHH--------H',\n",
       "       '--------------------HH------------HHHHHHHHHHHHHHHHHHHHHHHHHHHHHHHHHHHH',\n",
       "       '--------------------H------------------------------------------------H',\n",
       "       '--------------------H------------------------------------------------H',\n",
       "       '--------------------H-------------------------------------------------',\n",
       "       '--------------------H-------------------------------------------------',\n",
       "       '--------------------H-------------------------------------------------',\n",
       "       '--------------------H-------------------------------------------------',\n",
       "       '----------------------------------------------------------------------',\n",
       "       '----------------------------------------------------------------------',\n",
       "       '----------------------------------------------------------------------',\n",
       "       '----------------------------------------------------------------------',\n",
       "       '----------------------------------------------------------------------'],\n",
       "      dtype='<U70')"
      ]
     },
     "execution_count": 34,
     "metadata": {},
     "output_type": "execute_result"
    }
   ],
   "source": [
    "# open json file\n",
    "path = './json-list-data/'\n",
    "env_file = os.path.join(path, 'test.json')\n",
    "\n",
    "with open(env_file) as f:\n",
    "    env_json = json.load(f)\n",
    "\n",
    "env_json\n",
    "text_data = np.flipud(env_json)"
   ]
  },
  {
   "cell_type": "code",
   "execution_count": 7,
   "id": "7c69b3ed",
   "metadata": {},
   "outputs": [],
   "source": [
    "env_dict = {}"
   ]
  },
  {
   "cell_type": "code",
   "execution_count": 5,
   "id": "72e2e20f",
   "metadata": {},
   "outputs": [
    {
     "data": {
      "text/plain": [
       "(70, 14)"
      ]
     },
     "execution_count": 5,
     "metadata": {},
     "output_type": "execute_result"
    }
   ],
   "source": [
    "grid_width,grid_height = len(env_json[0]),len(env_json)-5\n",
    "grid_width, grid_height"
   ]
  },
  {
   "cell_type": "code",
   "execution_count": 8,
   "id": "26f80923",
   "metadata": {},
   "outputs": [
    {
     "data": {
      "text/plain": [
       "{'grid_width': 70, 'grid_height': 14}"
      ]
     },
     "execution_count": 8,
     "metadata": {},
     "output_type": "execute_result"
    }
   ],
   "source": [
    "env_dict[\"grid_width\"] = grid_width\n",
    "env_dict[\"grid_height\"] = grid_height\n",
    "env_dict"
   ]
  },
  {
   "cell_type": "code",
   "execution_count": 42,
   "id": "842dbbd9",
   "metadata": {},
   "outputs": [],
   "source": [
    "def rinsetu(A,i,j):\n",
    "    rinsetu = []\n",
    "    X = len(A[0])\n",
    "    if i > 0:\n",
    "        if A[i-1][j] == 'H' or A[i-1][j] == 'S':\n",
    "            rinsetu.append((i-1)*X + j)\n",
    "    if i < len(A):\n",
    "        if A[i+1][j] == 'H' or A[i+1][j] == 'S':\n",
    "            rinsetu.append((i+1)*X + j)\n",
    "    if j > 0:\n",
    "        if A[i][j-1] == 'H' or A[i][j-1] == 'S':\n",
    "            rinsetu.append(i*X + j-1)\n",
    "    if j < X-1:\n",
    "        if A[i][j+1] == 'H' or A[i][j+1] == 'S':\n",
    "            rinsetu.append(i*X + j+1)\n",
    "    return rinsetu"
   ]
  },
  {
   "cell_type": "code",
   "execution_count": 47,
   "id": "c72c2115",
   "metadata": {},
   "outputs": [],
   "source": [
    "object_dict = {}\n",
    "terrain = {}\n",
    "indice_list = []\n",
    "type_list = []\n",
    "neighbors = {}\n",
    "for i in range(len(text_data)):\n",
    "    text1 = list(text_data[i])\n",
    "    for j,t in enumerate(text1):\n",
    "        if t == 'H':\n",
    "            indice_list.append(j+grid_width*i)\n",
    "            type_list.append(5)\n",
    "            neighbors[str(j+grid_width*i)] = rinsetu(text_data,i,j)\n",
    "        if t == 'S':\n",
    "            indice_list.append(j+grid_width*i)\n",
    "            type_list.append(2)\n",
    "            neighbors[str(j+grid_width*i)] = rinsetu(text_data,i,j)\n",
    "\n",
    "terrain['indice'] = indice_list\n",
    "terrain['type'] = type_list\n",
    "terrain['neighbors'] = neighbors\n",
    "object_dict['terrain'] = terrain"
   ]
  },
  {
   "cell_type": "code",
   "execution_count": 48,
   "id": "1ca436f4",
   "metadata": {},
   "outputs": [],
   "source": [
    "env_dict['object'] = object_dict"
   ]
  },
  {
   "cell_type": "code",
   "execution_count": 50,
   "id": "f356fa36",
   "metadata": {},
   "outputs": [],
   "source": [
    "with open('./test-json-data/test.json', 'w') as f:\n",
    "    json.dump(env_dict, f)"
   ]
  },
  {
   "cell_type": "code",
   "execution_count": null,
   "id": "f3dc871c",
   "metadata": {},
   "outputs": [],
   "source": []
  }
 ],
 "metadata": {
  "kernelspec": {
   "display_name": "Python 3 (ipykernel)",
   "language": "python",
   "name": "python3"
  },
  "language_info": {
   "codemirror_mode": {
    "name": "ipython",
    "version": 3
   },
   "file_extension": ".py",
   "mimetype": "text/x-python",
   "name": "python",
   "nbconvert_exporter": "python",
   "pygments_lexer": "ipython3",
   "version": "3.8.5"
  }
 },
 "nbformat": 4,
 "nbformat_minor": 5
}

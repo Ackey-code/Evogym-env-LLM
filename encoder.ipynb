{
 "cells": [
  {
   "cell_type": "code",
   "execution_count": null,
   "metadata": {},
   "outputs": [],
   "source": [
    "import os\n",
    "import copy\n",
    "from itertools import count\n",
    "import json\n",
    "import pickle\n",
    "import numpy as np\n",
    "\n",
    "import matplotlib.pyplot as plt"
   ]
  },
  {
   "cell_type": "code",
   "execution_count": null,
   "metadata": {},
   "outputs": [],
   "source": [
    "path = '.'\n",
    "env_file = os.path.join(path, 'CaveCrawler-v0.json')\n",
    "\n",
    "# json.load関数を使ったjsonファイルの読み込み\n",
    "with open(env_file) as f:\n",
    "    env_json = json.load(f)\n",
    "\n",
    "env_json"
   ]
  },
  {
   "cell_type": "code",
   "execution_count": null,
   "metadata": {},
   "outputs": [],
   "source": [
    "width, height = env_json['grid_width'], env_json['grid_height']+5\n",
    "width, height"
   ]
  },
  {
   "cell_type": "code",
   "execution_count": null,
   "metadata": {},
   "outputs": [],
   "source": [
    "fig, ax = plt.subplots()\n",
    "\n",
    "for platform in env_json['objects'].values():\n",
    "    for idx, t in zip(platform['indices'],platform['types']):\n",
    "        x = idx % width\n",
    "        y = idx // width\n",
    "\n",
    "        if t==2:\n",
    "            color = [0.7,0.7,0.7]\n",
    "        else:\n",
    "            color = 'k'\n",
    "        ax.fill_between([x,x+1], [y+1, y+1], [y, y], fc=color)\n",
    "\n",
    "ax.set_xlim([0,width])\n",
    "ax.set_ylim([0,height])\n",
    "ax.grid()\n",
    "plt.show()"
   ]
  }
 ],
 "metadata": {
  "language_info": {
   "name": "python"
  },
  "orig_nbformat": 4
 },
 "nbformat": 4,
 "nbformat_minor": 2
}
